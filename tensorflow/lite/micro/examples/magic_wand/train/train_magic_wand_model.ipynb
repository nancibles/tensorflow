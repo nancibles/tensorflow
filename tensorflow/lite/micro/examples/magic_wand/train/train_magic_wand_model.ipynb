{
 "cells": [
  {
   "cell_type": "markdown",
   "metadata": {
    "colab_type": "text",
    "id": "1BtkMGSYQOTQ"
   },
   "source": [
    "# Train a gesture recognition model for microcontroller use"
   ]
  },
  {
   "cell_type": "markdown",
   "metadata": {
    "colab_type": "text",
    "id": "BaFfr7DHRmGF"
   },
   "source": [
    "This notebook demonstrates how to train a 20kb gesture recognition model for [TensorFlow Lite for Microcontrollers](https://tensorflow.org/lite/microcontrollers/overview). It will produce the same model used in the [magic_wand](https://github.com/tensorflow/tensorflow/tree/master/tensorflow/lite/micro/examples/magic_wand) example application.\n",
    "\n",
    "The model is designed to be used with [Google Colaboratory](https://colab.research.google.com).\n",
    "\n",
    "<table class=\"tfo-notebook-buttons\" align=\"left\">\n",
    "  <td>\n",
    "    <a target=\"_blank\" href=\"https://colab.research.google.com/github/tensorflow/tensorflow/blob/master/tensorflow/lite/micro/examples/magic_wand/train/train_magic_wand_model.ipynb\"><img src=\"https://www.tensorflow.org/images/colab_logo_32px.png\" />Run in Google Colab</a>\n",
    "  </td>\n",
    "  <td>\n",
    "    <a target=\"_blank\" href=\"https://github.com/tensorflow/tensorflow/blob/master/tensorflow/lite/micro/examples/magic_wand/train/train_magic_wand_model.ipynb\"><img src=\"https://www.tensorflow.org/images/GitHub-Mark-32px.png\" />View source on GitHub</a>\n",
    "  </td>\n",
    "</table>\n"
   ]
  },
  {
   "cell_type": "markdown",
   "metadata": {
    "colab_type": "text",
    "id": "xXgS6rxyT7Qk"
   },
   "source": [
    "Training is much faster using GPU acceleration. Before you proceed, ensure you are using a GPU runtime by going to **Runtime -> Change runtime type** and selecting **GPU**. Training will take around 5 minutes on a GPU runtime."
   ]
  },
  {
   "cell_type": "markdown",
   "metadata": {
    "colab_type": "text",
    "id": "LG6ErX5FRIaV"
   },
   "source": [
    "## Configure dependencies\n",
    "\n",
    "Run the following cell to ensure the correct version of TensorFlow is used."
   ]
  },
  {
   "cell_type": "markdown",
   "metadata": {
    "colab_type": "text",
    "id": "STNft9TrfoVh"
   },
   "source": [
    "We'll also clone the TensorFlow repository, which contains the training scripts, and copy them into our workspace."
   ]
  },
  {
   "cell_type": "code",
   "execution_count": 0,
   "metadata": {
    "colab": {},
    "colab_type": "code",
    "id": "ygkWw73dRNda"
   },
   "outputs": [],
   "source": [
    "# Clone the repository from GitHub\n",
    "!git clone --depth 1 -q https://github.com/tensorflow/tensorflow\n",
    "# Copy the training scripts into our workspace\n",
    "!cp -r tensorflow/tensorflow/lite/micro/examples/magic_wand/train train"
   ]
  },
  {
   "cell_type": "markdown",
   "metadata": {
    "colab_type": "text",
    "id": "pXI7R4RehFdU"
   },
   "source": [
    "## Prepare the data\n",
    "\n",
    "Next, we'll download the data and extract it into the expected location within the training scripts' directory."
   ]
  },
  {
   "cell_type": "code",
   "execution_count": 0,
   "metadata": {
    "colab": {},
    "colab_type": "code",
    "id": "W2Sg2AKzVr2L"
   },
   "outputs": [],
   "source": [
    "# Download the data we will use to train the model\n",
    "!wget http://download.tensorflow.org/models/tflite/magic_wand/data.tar.gz\n",
    "# Extract the data into the train directory\n",
    "!tar xvzf data.tar.gz -C train 1>/dev/null"
   ]
  },
  {
   "cell_type": "markdown",
   "metadata": {
    "colab_type": "text",
    "id": "DNjukI1Sgl2C"
   },
   "source": [
    "We'll then run the scripts that split the data into training, validation, and test sets."
   ]
  },
  {
   "cell_type": "code",
   "execution_count": 1,
   "metadata": {
    "colab": {},
    "colab_type": "code",
    "id": "XBqSVpi6Vxss"
   },
   "outputs": [
    {
     "name": "stdout",
     "output_type": "stream",
     "text": [
      "[WinError 2] The system cannot find the file specified: 'train'\n",
      "C:\\Users\\nancy\\Documents\\tensorflow\\tensorflow\\lite\\micro\\examples\\magic_wand\\train\n",
      "data_length: 3750\n",
      "data_length:3750\n",
      "{'h': 100, 'e': 100, 'l': 100, 'o': 100, 'w': 100, 'r': 100, 'd': 100, 'u': 100, 's': 100, 'f': 100, 'g': 100, 'negative': 150}\n",
      "train_length:750\n",
      "test_length:250\n",
      "valid_length:250\n"
     ]
    }
   ],
   "source": [
    "# The scripts must be run from within the train directory\n",
    "%cd train\n",
    "# Prepare the data\n",
    "!python data_prepare_flourish.py\n",
    "# Split the data by person\n",
    "!python data_split.py"
   ]
  },
  {
   "cell_type": "markdown",
   "metadata": {
    "colab_type": "text",
    "id": "5-cmVbFvhTvy"
   },
   "source": [
    "## Load TensorBoard\n",
    "\n",
    "Now, we set up TensorBoard so that we can graph our accuracy and loss as training proceeds."
   ]
  },
  {
   "cell_type": "code",
   "execution_count": 8,
   "metadata": {
    "colab": {},
    "colab_type": "code",
    "id": "CCx6SN9NWRPw"
   },
   "outputs": [
    {
     "name": "stdout",
     "output_type": "stream",
     "text": [
      "The tensorboard extension is already loaded. To reload it, use:\n",
      "  %reload_ext tensorboard\n"
     ]
    },
    {
     "data": {
      "text/plain": [
       "Reusing TensorBoard on port 8080 (pid 9808), started 0:01:33 ago. (Use '!kill 9808' to kill it.)"
      ]
     },
     "metadata": {},
     "output_type": "display_data"
    },
    {
     "data": {
      "text/html": [
       "\n",
       "      <iframe id=\"tensorboard-frame-e911dfddd1dc2451\" width=\"100%\" height=\"800\" frameborder=\"0\">\n",
       "      </iframe>\n",
       "      <script>\n",
       "        (function() {\n",
       "          const frame = document.getElementById(\"tensorboard-frame-e911dfddd1dc2451\");\n",
       "          const url = new URL(\"/\", window.location);\n",
       "          url.port = 8080;\n",
       "          frame.src = url;\n",
       "        })();\n",
       "      </script>\n",
       "  "
      ],
      "text/plain": [
       "<IPython.core.display.HTML object>"
      ]
     },
     "metadata": {},
     "output_type": "display_data"
    }
   ],
   "source": [
    "# Load TensorBoard\n",
    "%load_ext tensorboard\n",
    "%tensorboard --logdir logs/scalars --port=8080"
   ]
  },
  {
   "cell_type": "markdown",
   "metadata": {
    "colab_type": "text",
    "id": "ERC2Cr4PhaOl"
   },
   "source": [
    "## Begin training\n",
    "\n",
    "The following cell will begin the training process. Training will take around 5 minutes on a GPU runtime. You'll see the metrics in TensorBoard after a few epochs."
   ]
  },
  {
   "cell_type": "code",
   "execution_count": null,
   "metadata": {
    "colab": {},
    "colab_type": "code",
    "id": "DXmQZgbuWQFO"
   },
   "outputs": [],
   "source": [
    "!python train.py --model CNN --person false"
   ]
  },
  {
   "cell_type": "markdown",
   "metadata": {
    "colab_type": "text",
    "id": "4gXbVzcXhvGD"
   },
   "source": [
    "## Create a C source file\n",
    "\n",
    "The `train.py` script writes a model, `model.tflite`, to the training scripts' directory.\n",
    "\n",
    "In the following cell, we convert this model into a C++ source file we can use with TensorFlow Lite for Microcontrollers."
   ]
  },
  {
   "cell_type": "code",
   "execution_count": 0,
   "metadata": {
    "colab": {},
    "colab_type": "code",
    "id": "8wgei4OGe3Nz"
   },
   "outputs": [],
   "source": [
    "# Install xxd if it is not available\n",
    "!apt-get -qq install xxd\n",
    "# Save the file as a C source file\n",
    "!xxd -i model.tflite > /content/model.cc\n",
    "# Print the source file\n",
    "!cat /content/model.cc"
   ]
  }
 ],
 "metadata": {
  "accelerator": "GPU",
  "colab": {
   "collapsed_sections": [],
   "name": "Train a gesture recognition model for microcontroller use",
   "provenance": [],
   "toc_visible": true
  },
  "kernelspec": {
   "display_name": "Python 3",
   "language": "python",
   "name": "python3"
  },
  "language_info": {
   "codemirror_mode": {
    "name": "ipython",
    "version": 3
   },
   "file_extension": ".py",
   "mimetype": "text/x-python",
   "name": "python",
   "nbconvert_exporter": "python",
   "pygments_lexer": "ipython3",
   "version": "3.7.4"
  }
 },
 "nbformat": 4,
 "nbformat_minor": 1
}
