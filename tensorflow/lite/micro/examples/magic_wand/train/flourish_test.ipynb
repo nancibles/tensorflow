{
 "cells": [
  {
   "cell_type": "code",
   "execution_count": null,
   "metadata": {},
   "outputs": [],
   "source": [
    "test_user = \"testdata\""
   ]
  },
  {
   "cell_type": "code",
   "execution_count": 4,
   "metadata": {},
   "outputs": [
    {
     "name": "stdout",
     "output_type": "stream",
     "text": [
      "data_length: 600\n"
     ]
    }
   ],
   "source": [
    "!python data_prepare_flourish.py --website True --username test_user"
   ]
  },
  {
   "cell_type": "code",
   "execution_count": 5,
   "metadata": {},
   "outputs": [
    {
     "name": "stdout",
     "output_type": "stream",
     "text": [
      "data_length:600\n",
      "{'h': 50, 'e': 50, 'l': 50, 'o': 50, 'w': 50, 'r': 50, 'd': 50, 'u': 50, 's': 50, 'negative': 150}\n",
      "train_length:360\n",
      "test_length:120\n",
      "valid_length:120\n"
     ]
    }
   ],
   "source": [
    "!python data_split.py"
   ]
  },
  {
   "cell_type": "code",
   "execution_count": null,
   "metadata": {},
   "outputs": [],
   "source": [
    "!python train.py --model CNN --person false --outfile \"test\""
   ]
  },
  {
   "cell_type": "code",
   "execution_count": null,
   "metadata": {},
   "outputs": [],
   "source": [
    "!apt-get -qq install xxd\n",
    "!xxd -i model_helowrdus_150neg50sets_jan27_nomag.tflite > /content/model_helowrdus_150neg50sets_jan27_nomag.cpp\n",
    "# Print the source file\n",
    "!cat /content/model.cc"
   ]
  }
 ],
 "metadata": {
  "kernelspec": {
   "display_name": "Python 3",
   "language": "python",
   "name": "python3"
  },
  "language_info": {
   "codemirror_mode": {
    "name": "ipython",
    "version": 3
   },
   "file_extension": ".py",
   "mimetype": "text/x-python",
   "name": "python",
   "nbconvert_exporter": "python",
   "pygments_lexer": "ipython3",
   "version": "3.7.4"
  }
 },
 "nbformat": 4,
 "nbformat_minor": 4
}
